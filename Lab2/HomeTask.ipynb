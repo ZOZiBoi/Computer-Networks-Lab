{
 "cells": [
  {
   "cell_type": "code",
   "execution_count": 6,
   "metadata": {},
   "outputs": [
    {
     "name": "stdout",
     "output_type": "stream",
     "text": [
      "Not found!\n"
     ]
    }
   ],
   "source": [
    "stringList = [\"Monaco\", \"Spa\", \"Monza\", \"Silverstone\"]\n",
    "\n",
    "\n",
    "userInput = input(\"Enter a string to check: \")\n",
    "if (userInput in stringList):\n",
    "    print(\"Found!\")\n",
    "else:\n",
    "    print(\"Not found!\")"
   ]
  },
  {
   "cell_type": "code",
   "execution_count": 7,
   "metadata": {},
   "outputs": [
    {
     "name": "stdout",
     "output_type": "stream",
     "text": [
      "{'red': 'apple', 'yellow': 'banana', 'orange': 'orange'}\n"
     ]
    }
   ],
   "source": [
    "my_dict = {'apple': 'red', 'banana': 'yellow', 'orange': 'orange'}\n",
    "new_dict = {value: key for key, value in my_dict.items()}\n",
    "print(new_dict)"
   ]
  },
  {
   "cell_type": "code",
   "execution_count": 22,
   "metadata": {},
   "outputs": [
    {
     "name": "stdout",
     "output_type": "stream",
     "text": [
      "5 x 1 = 5\n",
      "5 x 2 = 10\n",
      "5 x 3 = 15\n",
      "5 x 4 = 20\n",
      "5 x 5 = 25\n",
      "5 x 6 = 30\n",
      "5 x 7 = 35\n",
      "5 x 8 = 40\n",
      "5 x 9 = 45\n",
      "5 x 10 = 50\n"
     ]
    }
   ],
   "source": [
    "j = 1\n",
    "userInput = int(input(\"Enter number to see its multiplication table: \"))\n",
    "numbers = []\n",
    "while (j <= 10):\n",
    "    numbers.append(j)\n",
    "    j += 1\n",
    "for i in numbers:\n",
    "    result = userInput * i\n",
    "    print(userInput, \"x\", i, \"=\", result)\n",
    "        \n"
   ]
  },
  {
   "cell_type": "code",
   "execution_count": 7,
   "metadata": {},
   "outputs": [
    {
     "name": "stdout",
     "output_type": "stream",
     "text": [
      "Enter a new favorite color:  orange\n",
      "{'name': 'John', 'age': 26, 'colors': ['blue', 'green', 'orange']}\n"
     ]
    },
    {
     "name": "stdout",
     "output_type": "stream",
     "text": [
      "{'name': 'John', 'age': 26, 'colors': ['blue', 'green', 'orange']}\n"
     ]
    }
   ],
   "source": [
    "user = {'name': 'John', 'age': 26, 'colors': ['blue', 'green']}\n",
    "newcolor = input(\"Enter a new favorite color: \")\n",
    "user['colors'].append(newcolor)\n",
    "print(user)"
   ]
  },
  {
   "cell_type": "code",
   "execution_count": 6,
   "metadata": {},
   "outputs": [
    {
     "name": "stdout",
     "output_type": "stream",
     "text": [
      "Starting number: 100.0\n",
      "Enter a number to divide by:  3\n",
      "Updated value: 33.333333333333336\n",
      "Enter a number to divide by:  3\n",
      "Updated value: 11.111111111111112\n",
      "Enter a number to divide by:  3\n",
      "Updated value: 3.703703703703704\n",
      "Enter a number to divide by:  3\n",
      "Updated value: 1.234567901234568\n",
      "Enter a number to divide by:  3\n",
      "Updated value: 0.41152263374485604\n"
     ]
    },
    {
     "name": "stdout",
     "output_type": "stream",
     "text": [
      "Enter a number to divide by:  3\n"
     ]
    },
    {
     "name": "stdout",
     "output_type": "stream",
     "text": [
      "Updated value: 33.333333333333336\n"
     ]
    },
    {
     "name": "stdout",
     "output_type": "stream",
     "text": [
      "Enter a number to divide by:  3\n"
     ]
    },
    {
     "name": "stdout",
     "output_type": "stream",
     "text": [
      "Updated value: 11.111111111111112\n"
     ]
    },
    {
     "name": "stdout",
     "output_type": "stream",
     "text": [
      "Enter a number to divide by:  3\n"
     ]
    },
    {
     "name": "stdout",
     "output_type": "stream",
     "text": [
      "Updated value: 3.703703703703704\n"
     ]
    },
    {
     "name": "stdout",
     "output_type": "stream",
     "text": [
      "Enter a number to divide by:  3\n"
     ]
    },
    {
     "name": "stdout",
     "output_type": "stream",
     "text": [
      "Updated value: 1.234567901234568\n"
     ]
    },
    {
     "name": "stdout",
     "output_type": "stream",
     "text": [
      "Enter a number to divide by:  3\n"
     ]
    },
    {
     "name": "stdout",
     "output_type": "stream",
     "text": [
      "Updated value: 0.41152263374485604\n"
     ]
    }
   ],
   "source": [
    "startingNumber = 100.0\n",
    "print(\"Starting number:\", startingNumber)\n",
    "while(startingNumber >= 1):\n",
    "    divNumber = int(input(\"Enter a number to divide by: \"))\n",
    "    startingNumber /= divNumber\n",
    "    print(\"Updated value:\", startingNumber)"
   ]
  },
  {
   "cell_type": "code",
   "execution_count": 32,
   "metadata": {},
   "outputs": [
    {
     "name": "stdout",
     "output_type": "stream",
     "text": [
      "{'Zeeshan Bashir': 3, 'Fariha Amjad': 2}\n"
     ]
    }
   ],
   "source": [
    "users = [\n",
    "    {'first':'Zeeshan', 'last': 'Bashir'},\n",
    "    {'first':'Fariha', 'last': 'Amjad'},\n",
    "    {'first':'Zeeshan', 'last': 'Bashir'},\n",
    "    {'first':'Zeeshan', 'last': 'Bashir'},\n",
    "    {'first':'Fariha', 'last': 'Amjad'}\n",
    "]\n",
    "full_name_count = {}\n",
    "\n",
    "for person in users:\n",
    "    full_name = f\"{person['first']} {person['last']}\"\n",
    "\n",
    "    if full_name in full_name_count:\n",
    "        full_name_count[full_name] += 1\n",
    "    else:\n",
    "        full_name_count[full_name] = 1\n",
    "\n",
    "print(full_name_count)"
   ]
  },
  {
   "cell_type": "code",
   "execution_count": 35,
   "metadata": {},
   "outputs": [
    {
     "name": "stdout",
     "output_type": "stream",
     "text": [
      "Even numbers: [88, 40, 26, 36]\n",
      "Odd numbers: [61, 99, 89, 23, 49, 85]\n"
     ]
    }
   ],
   "source": [
    "import random\n",
    "even_numbers = []\n",
    "odd_numbers = []\n",
    "random_integers = [random.randint(1, 100) for _ in range(10)]\n",
    "for i in random_integers:\n",
    "    if (i % 2 == 0):\n",
    "        even_numbers.append(i)\n",
    "    else:\n",
    "        odd_numbers.append(i)\n",
    "print(\"Even numbers:\", even_numbers)\n",
    "print(\"Odd numbers:\", odd_numbers)"
   ]
  },
  {
   "cell_type": "code",
   "execution_count": 8,
   "metadata": {},
   "outputs": [
    {
     "name": "stdout",
     "output_type": "stream",
     "text": [
      "Enter an item name (type 'stop' to end):  apple\n",
      "The price of apple is 0.99\n",
      "Enter an item name (type 'stop' to end):  banana\n",
      "The price of banana is 0.5\n",
      "Enter an item name (type 'stop' to end):  peach\n",
      "Not found\n",
      "Enter an item name (type 'stop' to end):  stop\n"
     ]
    },
    {
     "name": "stdout",
     "output_type": "stream",
     "text": [
      "The price of apple is 0.99\n"
     ]
    },
    {
     "name": "stdout",
     "output_type": "stream",
     "text": [
      "Enter an item name (type 'stop' to end):  banana\n"
     ]
    },
    {
     "name": "stdout",
     "output_type": "stream",
     "text": [
      "The price of banana is 0.5\n"
     ]
    },
    {
     "name": "stdout",
     "output_type": "stream",
     "text": [
      "Enter an item name (type 'stop' to end):  peach\n"
     ]
    },
    {
     "name": "stdout",
     "output_type": "stream",
     "text": [
      "Not found\n"
     ]
    },
    {
     "name": "stdout",
     "output_type": "stream",
     "text": [
      "Enter an item name (type 'stop' to end):  stop\n"
     ]
    }
   ],
   "source": [
    "items = {\n",
    "    'apple': 0.99,\n",
    "    'banana': 0.50,\n",
    "    'orange': 0.75,\n",
    "    'grapes': 1.99,\n",
    "    'watermelon': 3.99\n",
    "}\n",
    "while (True):\n",
    "    user_input = input(\"Enter an item name (type 'stop' to end): \")\n",
    "    if (user_input.lower() == \"stop\"):\n",
    "        break\n",
    "    elif (user_input in items):\n",
    "        print(\"The price of\", user_input, \"is\", items[user_input])\n",
    "    else:\n",
    "        print(\"Not found\")"
   ]
  },
  {
   "cell_type": "code",
   "execution_count": 9,
   "metadata": {},
   "outputs": [
    {
     "name": "stdin",
     "output_type": "stream",
     "text": [
      "Enter a number of 'exit' to finish:  10\n",
      "Enter a number of 'exit' to finish:  20\n",
      "Enter a number of 'exit' to finish:  30\n",
      "Enter a number of 'exit' to finish:  50\n",
      "Enter a number of 'exit' to finish:  exit\n"
     ]
    },
    {
     "name": "stdout",
     "output_type": "stream",
     "text": [
      "The cumulative total is: 110\n"
     ]
    }
   ],
   "source": [
    "total = 0\n",
    "exit_flag = False\n",
    "#loop until 'exit' is entered\n",
    "while(True):\n",
    "    #loop to validate input\n",
    "    while(True): \n",
    "        user_input = input(\"Enter a number of 'exit' to finish: \")\n",
    "        if user_input == \"exit\":\n",
    "            #exit entered \n",
    "            exit_flag = True \n",
    "            break\n",
    "        try: \n",
    "            total += int(user_input)\n",
    "            if (int(user_input) < 0):\n",
    "                print(\"Enter a positive number\")\n",
    "                continue\n",
    "            break\n",
    "        except ValueError:\n",
    "            print(\"Enter a valid number\")\n",
    "    #check if exit was entered in validation loop\n",
    "    if exit_flag: \n",
    "        break\n",
    "print(\"The cumulative total is:\", total)\n",
    "    "
   ]
  },
  {
   "cell_type": "code",
   "execution_count": 10,
   "metadata": {},
   "outputs": [
    {
     "name": "stdin",
     "output_type": "stream",
     "text": [
      "Enter a day of the week:  tuesday\n"
     ]
    },
    {
     "name": "stdout",
     "output_type": "stream",
     "text": [
      "Activities for tuesday:\n",
      "- Work\n",
      "- Yoga\n",
      "- Movie night\n"
     ]
    }
   ],
   "source": [
    "activities = {\n",
    "    'monday': ['Work', 'Gym', 'Dinner'],\n",
    "    'tuesday': ['Work', 'Yoga', 'Movie night'],\n",
    "    'wednesday': ['Work', 'Running', 'Game night'],\n",
    "    'thursday': ['Work', 'Pilates', 'Concert'],\n",
    "    'friday': ['Work', 'Dancing', 'Party'],\n",
    "    'saturday': ['Relaxation', 'Shopping', 'Family time'],\n",
    "    'sunday': ['Relaxation', 'Brunch', 'Outdoor activities']\n",
    "}\n",
    "\n",
    "user_input = input(\"Enter a day of the week: \")\n",
    "\n",
    "if user_input.lower() in activities:\n",
    "    print(\"Activities for\", user_input + \":\")\n",
    "    for activity in activities[user_input.lower()]:\n",
    "        print(\"-\", activity)\n",
    "else:\n",
    "    print(\"Invalid day\")"
   ]
  },
  {
   "cell_type": "code",
   "execution_count": null,
   "metadata": {},
   "outputs": [],
   "source": []
  }
 ],
 "metadata": {
  "kernelspec": {
   "display_name": "Python 3 (ipykernel)",
   "language": "python",
   "name": "python3"
  },
  "language_info": {
   "codemirror_mode": {
    "name": "ipython",
    "version": 3
   },
   "file_extension": ".py",
   "mimetype": "text/x-python",
   "name": "python",
   "nbconvert_exporter": "python",
   "pygments_lexer": "ipython3",
   "version": "3.10.12"
  }
 },
 "nbformat": 4,
 "nbformat_minor": 4
}

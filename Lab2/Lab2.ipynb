{
 "cells": [
  {
   "cell_type": "code",
   "execution_count": 3,
   "id": "ed1c4a13-a712-43c0-ab37-658c750825ce",
   "metadata": {},
   "outputs": [
    {
     "name": "stdout",
     "output_type": "stream",
     "text": [
      "Enter length:  3\n",
      "Enter width:  4\n"
     ]
    },
    {
     "name": "stdout",
     "output_type": "stream",
     "text": [
      "Area of rectangle: 12\n"
     ]
    }
   ],
   "source": [
    "length = int(input(\"Enter length: \"))\n",
    "width = int(input(\"Enter width: \"))\n",
    "area = length * width\n",
    "print(\"Area of rectangle: \" + str(area))"
   ]
  },
  {
   "cell_type": "code",
   "execution_count": 2,
   "id": "a2394a11-d21c-46cd-81cb-1af5f0190e52",
   "metadata": {},
   "outputs": [
    {
     "name": "stdout",
     "output_type": "stream",
     "text": [
      "Enter number:  -4\n"
     ]
    },
    {
     "name": "stdout",
     "output_type": "stream",
     "text": [
      "Number is even.\n"
     ]
    }
   ],
   "source": [
    "number = int(input(\"Enter number: \"))\n",
    "if (number % 2 == 0):\n",
    "    print(\"Number is even.\")\n",
    "else:\n",
    "    print(\"Number is odd.\")"
   ]
  },
  {
   "cell_type": "code",
   "execution_count": 1,
   "id": "f894750e-7f1f-4bbf-a325-95495e3c8350",
   "metadata": {},
   "outputs": [
    {
     "name": "stdout",
     "output_type": "stream",
     "text": [
      "2\n",
      "2\n"
     ]
    }
   ],
   "source": [
    "#sqrt x without built in methods\n",
    "def sqrt(x):\n",
    "    if (x == 0 or x == 1):\n",
    "        return x\n",
    "    i = 1\n",
    "    result = 1\n",
    "    while(result <= x):\n",
    "        i += 1;\n",
    "        result = i * i\n",
    "\n",
    "    return int(i - 1)\n",
    "\n",
    "print(sqrt(4))\n",
    "print(sqrt(8))"
   ]
  },
  {
   "cell_type": "code",
   "execution_count": null,
   "id": "aa6d6a70-fd96-4233-87d3-71617e84735c",
   "metadata": {},
   "outputs": [],
   "source": []
  }
 ],
 "metadata": {
  "kernelspec": {
   "display_name": "Python 3 (ipykernel)",
   "language": "python",
   "name": "python3"
  }
 },
 "nbformat": 4,
 "nbformat_minor": 5
}

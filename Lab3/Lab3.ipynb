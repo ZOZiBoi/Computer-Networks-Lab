{
 "cells": [
  {
   "cell_type": "code",
   "execution_count": 1,
   "id": "b2f8b1fc-e731-4032-b15f-a45cb306a24c",
   "metadata": {},
   "outputs": [
    {
     "name": "stdout",
     "output_type": "stream",
     "text": [
      "Byte order of the machine: little\n",
      "Short integer (0x1234) stored in memory, byte by byte:\n",
      "34\n",
      "12\n"
     ]
    }
   ],
   "source": [
    "import sys\n",
    "import struct\n",
    "\n",
    "# Determine byte order\n",
    "byte_order = sys.byteorder\n",
    "print(f\"Byte order of the machine: {byte_order}\")\n",
    "\n",
    "# Display how a short integer (2 bytes) is stored in memory\n",
    "short_int = 0x1234\n",
    "packed_short = struct.pack('h', short_int)\n",
    "\n",
    "print(\"Short integer (0x1234) stored in memory, byte by byte:\")\n",
    "for byte in packed_short:\n",
    "    print(f\"{byte:02x}\")"
   ]
  }
 ],
 "metadata": {
  "kernelspec": {
   "display_name": "Python 3",
   "language": "python",
   "name": "python3"
  },
  "language_info": {
   "codemirror_mode": {
    "name": "ipython",
    "version": 3
   },
   "file_extension": ".py",
   "mimetype": "text/x-python",
   "name": "python",
   "nbconvert_exporter": "python",
   "pygments_lexer": "ipython3",
   "version": "3.10.12"
  }
 },
 "nbformat": 4,
 "nbformat_minor": 5
}
